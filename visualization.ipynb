{
 "cells": [
  {
   "cell_type": "code",
   "execution_count": 5,
   "metadata": {},
   "outputs": [],
   "source": [
    "import sys\n",
    "sys.path.append('/')\n",
    "\n",
    "import cv2\n",
    "import numpy as np\n",
    "from torchvision import models\n",
    "from efficientnet_pytorch import EfficientNet\n",
    "from grad_cam import GradCam,GuidedBackpropReLUModel,show_cams,show_gbs,preprocess_image"
   ]
  },
  {
   "cell_type": "markdown",
   "metadata": {},
   "source": [
    "## Visualizaion for VGG19"
   ]
  },
  {
   "cell_type": "code",
   "execution_count": 12,
   "metadata": {},
   "outputs": [],
   "source": [
    "model = models.vgg19(pretrained=True)\n",
    "grad_cam = GradCam(model=model, blob_name = 'features', target_layer_names=['4','20','36'], use_cuda=False)\n",
    "img = cv2.imread('./assets/dog.jpg', 1)\n",
    "img = np.float32(cv2.resize(img, (224, 224))) / 255\n",
    "inputs = preprocess_image(img)\n",
    "# If None, returns the map for the highest scoring category.\n",
    "# Otherwise, targets the requested index.\n",
    "target_index = None\n",
    "mask_dic = grad_cam(inputs, target_index)\n",
    "show_cams(img, mask_dic)\n",
    "gb_model = GuidedBackpropReLUModel(model=model, activation_layer_name = 'ReLU', use_cuda=False)\n",
    "show_gbs(inputs, gb_model, target_index, mask_dic)"
   ]
  },
  {
   "cell_type": "markdown",
   "metadata": {},
   "source": [
    "## Visualizaion for EfficientNet-B0"
   ]
  },
  {
   "cell_type": "code",
   "execution_count": 11,
   "metadata": {},
   "outputs": [
    {
     "name": "stdout",
     "output_type": "stream",
     "text": [
      "Loaded pretrained weights for efficientnet-b0\n"
     ]
    }
   ],
   "source": [
    "model = EfficientNet.from_pretrained('efficientnet-b0')\n",
    "grad_cam = GradCam(model=model, blob_name = '_blocks', target_layer_names=['1','10','15'], use_cuda=False)\n",
    "img = cv2.imread('./assets/dog.jpg', 1)\n",
    "img = np.float32(cv2.resize(img, (224, 224))) / 255\n",
    "inputs = preprocess_image(img)\n",
    "# If None, returns the map for the highest scoring category.\n",
    "# Otherwise, targets the requested index.\n",
    "target_index = None\n",
    "mask_dic = grad_cam(inputs, target_index)\n",
    "show_cams(img, mask_dic)\n",
    "gb_model = GuidedBackpropReLUModel(model=model, activation_layer_name = 'MemoryEfficientSwish', use_cuda=False)\n",
    "show_gbs(inputs, gb_model, target_index, mask_dic)"
   ]
  },
  {
   "cell_type": "code",
   "execution_count": null,
   "metadata": {},
   "outputs": [],
   "source": []
  }
 ],
 "metadata": {
  "kernelspec": {
   "display_name": "Python 3",
   "language": "python",
   "name": "python3"
  },
  "language_info": {
   "codemirror_mode": {
    "name": "ipython",
    "version": 3
   },
   "file_extension": ".py",
   "mimetype": "text/x-python",
   "name": "python",
   "nbconvert_exporter": "python",
   "pygments_lexer": "ipython3",
   "version": "3.7.3"
  }
 },
 "nbformat": 4,
 "nbformat_minor": 4
}
